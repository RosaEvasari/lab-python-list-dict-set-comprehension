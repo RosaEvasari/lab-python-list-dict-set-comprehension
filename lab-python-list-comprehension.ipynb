{
 "cells": [
  {
   "cell_type": "markdown",
   "id": "25d7736c-ba17-4aff-b6bb-66eba20fbf4e",
   "metadata": {},
   "source": [
    "# Lab | List, Dict and Set Comprehension"
   ]
  },
  {
   "cell_type": "markdown",
   "id": "7dd3cbde-675a-4b81-92c3-f728846dbe06",
   "metadata": {},
   "source": [
    "## Exercise: Managing Customer Orders Optimized with Comprehension"
   ]
  },
  {
   "cell_type": "markdown",
   "id": "5d500160-2fb7-4777-b5e4-09d45ebaf328",
   "metadata": {},
   "source": [
    "In the previous exercise, you developed a program to manage customer orders and inventory. Now, let's take it a step further and incorporate comprehension into your code.\n",
    "\n",
    "Follow the steps below to complete the exercise:\n",
    "\n",
    "1. Review your code from the previous exercise and identify areas where you can apply comprehension to simplify and streamline your code. \n",
    "\n",
    "    - *Hint: Apply it to initialize inventory, updating the inventory and printing the updated inventory.*\n",
    "    \n",
    "    - For example, in initializing the inventory, we could have:\n",
    "    \n",
    "        ```python\n",
    "        def initialize_inventory(products):\n",
    "            inventory = {product: int(input(f\"Enter the quantity of {product}s available: \")) for product in products}\n",
    "            return inventory\n",
    "\n",
    "        ```\n",
    "<br>\n",
    "    \n",
    "\n",
    "Your code should produce output similar to the following:\n",
    "\n",
    "```python\n",
    "Enter the quantity of t-shirts available:  5\n",
    "Enter the quantity of mugs available:  4\n",
    "Enter the quantity of hats available:  3\n",
    "Enter the quantity of books available:  2\n",
    "Enter the quantity of keychains available:  1\n",
    "Enter the number of customer orders:  2\n",
    "Enter the name of a product that a customer wants to order:  hat\n",
    "Enter the name of a product that a customer wants to order:  keychain\n",
    "\n",
    "Order Statistics:\n",
    "Total Products Ordered: 2\n",
    "Percentage of Unique Products Ordered: 40.0\n",
    "\n",
    "Updated Inventory:\n",
    "t-shirt: 5\n",
    "mug: 4\n",
    "hat: 2\n",
    "book: 2\n",
    "Enter the price of keychain:  5\n",
    "Enter the price of hat:  10\n",
    "Total Price: 15.0\n",
    "\n",
    "```\n"
   ]
  },
  {
   "cell_type": "code",
   "execution_count": 113,
   "id": "1aafaeb3",
   "metadata": {},
   "outputs": [],
   "source": [
    "# comprehension code for initialize_inventory function\n",
    "\n",
    "# new_dict = {key_expression: value_expression for item in iterable}\n",
    "\n",
    "def initialize_inventory(products):\n",
    "    \n",
    "    inventory = {product:int(input(f\"Enter the quantity of {product} in the inventory: \")) for product in products}    \n",
    "\n",
    "    return inventory"
   ]
  },
  {
   "cell_type": "code",
   "execution_count": 114,
   "id": "a689c4ee",
   "metadata": {},
   "outputs": [
    {
     "data": {
      "text/plain": [
       "{'t-shirt': 6, 'mug': 5, 'hat': 4, 'book': 3, 'keychain': 2}"
      ]
     },
     "execution_count": 114,
     "metadata": {},
     "output_type": "execute_result"
    }
   ],
   "source": [
    "# call initialize_inventory function\n",
    "\n",
    "products = [\"t-shirt\", \"mug\", \"hat\", \"book\", \"keychain\"]\n",
    "inventory = initialize_inventory(products)\n",
    "inventory"
   ]
  },
  {
   "cell_type": "code",
   "execution_count": 115,
   "id": "918ee5d3",
   "metadata": {},
   "outputs": [],
   "source": [
    "# comprehension code for update_inventory function\n",
    "\n",
    "# new_dict = {key_expression: value_expression for item in iterable}\n",
    "\n",
    "def update_inventory(customer_orders, inventory):\n",
    "\n",
    "    \"\"\"In traditional code, we use customer orders in for loop and inventory for if/else so that the code won't run for so long if we have big data in inventory\n",
    "    In the comprehension code, we can use them the other way around and it will be fine.\"\"\"\n",
    "    \n",
    "    new_inventory = {product:(inventory[product] - 1) if product in customer_orders else inventory[product] for product in inventory}\n",
    "\n",
    "    return new_inventory"
   ]
  },
  {
   "cell_type": "code",
   "execution_count": 116,
   "id": "5f0a72d7",
   "metadata": {},
   "outputs": [
    {
     "data": {
      "text/plain": [
       "{'t-shirt': 6, 'mug': 4, 'hat': 4, 'book': 2, 'keychain': 1}"
      ]
     },
     "execution_count": 116,
     "metadata": {},
     "output_type": "execute_result"
    }
   ],
   "source": [
    "customer_orders = {'mug', 'book', 'keychain'}\n",
    "new_inventory = update_inventory(customer_orders, inventory)\n",
    "new_inventory"
   ]
  },
  {
   "cell_type": "code",
   "execution_count": 117,
   "id": "2b8b7e71",
   "metadata": {},
   "outputs": [],
   "source": [
    "# comprehension code for printing the updated inventory\n",
    "\n",
    "def print_updated_inventory(new_inventory):\n",
    "\n",
    "    updated_inventory = {print(f\"{product}:{new_inventory[product]}\") for product, quantity in new_inventory.items()}\n",
    "\n",
    "    return updated_inventory "
   ]
  },
  {
   "cell_type": "code",
   "execution_count": 118,
   "id": "5081e3d0",
   "metadata": {},
   "outputs": [
    {
     "name": "stdout",
     "output_type": "stream",
     "text": [
      "t-shirt:6\n",
      "mug:4\n",
      "hat:4\n",
      "book:2\n",
      "keychain:1\n",
      "{None}\n"
     ]
    }
   ],
   "source": [
    "print(print_updated_inventory(new_inventory))"
   ]
  },
  {
   "cell_type": "markdown",
   "id": "d81e149e",
   "metadata": {},
   "source": [
    "2. Modify the function get_customer_orders so it prompts the user to enter the number of customer orders and gathers the product names using a loop and user input. Use comprehension."
   ]
  },
  {
   "cell_type": "code",
   "execution_count": 122,
   "id": "a67d45d8",
   "metadata": {},
   "outputs": [],
   "source": [
    "# comprehension code for get_customer_order function\n",
    "\n",
    "# new_set = {expression for item in iterable}\n",
    "\n",
    "def get_customer_orders():\n",
    "    \n",
    "    number_of_order = int(input(\"Enter the number of order: \"))\n",
    "    customer_orders = {input(\"Enter a product that you want to order: \") for product in range(number_of_order)}\n",
    "    \n",
    "    return customer_orders\n",
    "\n"
   ]
  },
  {
   "cell_type": "code",
   "execution_count": 123,
   "id": "cbb545d8",
   "metadata": {},
   "outputs": [
    {
     "data": {
      "text/plain": [
       "{'book', 'keychain', 'mug'}"
      ]
     },
     "execution_count": 123,
     "metadata": {},
     "output_type": "execute_result"
    }
   ],
   "source": [
    "customer_orders = get_customer_orders()\n",
    "customer_orders"
   ]
  },
  {
   "cell_type": "markdown",
   "id": "c54b57f0",
   "metadata": {},
   "source": [
    "3. Add a new function to calculate the total price of the customer order. For each product in customer_orders, prompt the user to enter the price of that product. Use comprehension to calculate the total price. Note: assume that the user can only have 1 unit of each product."
   ]
  },
  {
   "cell_type": "code",
   "execution_count": 124,
   "id": "283047f4",
   "metadata": {},
   "outputs": [],
   "source": [
    "# comprehension code\n",
    "\n",
    "# new_dict = {key_expression: value_expression for item in iterable\n",
    "\n",
    "def calculate_total_price(customer_orders):\n",
    "\n",
    "    #price = {product:int(input(f\"Enter the price of {product} in euro:\")) for product in customer_orders}\n",
    "    \n",
    "    #price = {i:(price_input[i] if (i, price_input) not in price.items() else price_input) for i in customer_orders} --> this was too complicated and not needed.\n",
    "\n",
    "    total_price = sum(int(input(f\"Enter the price of {product} in euro:\")) for product in customer_orders) # only input the values in dictionaries. Comprehension doesn't always have to be stored in dictionary\n",
    "\n",
    "    return total_price"
   ]
  },
  {
   "cell_type": "code",
   "execution_count": 125,
   "id": "8ec7902f",
   "metadata": {},
   "outputs": [
    {
     "name": "stdout",
     "output_type": "stream",
     "text": [
      "Total price (in euro): 33\n"
     ]
    }
   ],
   "source": [
    "total_price = calculate_total_price(customer_orders)\n",
    "print(\"Total price (in euro):\", total_price) "
   ]
  },
  {
   "cell_type": "markdown",
   "id": "f283ae5e",
   "metadata": {},
   "source": [
    "4. Modify the update_inventory function to remove the product from the inventory if its quantity becomes zero after fulfilling the customer orders. Use comprehension to filter out the products with a quantity of zero from the inventory."
   ]
  },
  {
   "cell_type": "code",
   "execution_count": 134,
   "id": "d9f7c7bc",
   "metadata": {},
   "outputs": [],
   "source": [
    "# comprehension code for update_inventory function [not yet]\n",
    "\n",
    "# new_dict = {key_expression: value_expression for item in iterable}\n",
    "\n",
    "def update_inventory(customer_orders, new_inventory):\n",
    "\n",
    "    update_inventory = {products:(new_inventory[products] - 1) if products in customer_orders and new_inventory[products] != 0 else new_inventory[products] for products in new_inventory.keys()} # when you have else, then, move the for loop in the end\n",
    "\n",
    "    # to remove product with 0 quantity in the new_inventory, we need to have the code below because we cannot use \"del inventory[product]\" function in the code above\n",
    "    update_inventory = {products:(new_inventory[products]) for products, new_inventory[products] in update_inventory.items() if new_inventory[products] > 0} \n",
    "\n",
    "\n",
    "    return update_inventory\n"
   ]
  },
  {
   "cell_type": "code",
   "execution_count": 135,
   "id": "1a67f125",
   "metadata": {},
   "outputs": [
    {
     "data": {
      "text/plain": [
       "{'t-shirt': 6, 'mug': 1, 'hat': 4}"
      ]
     },
     "execution_count": 135,
     "metadata": {},
     "output_type": "execute_result"
    }
   ],
   "source": [
    "new_inventory = update_inventory(customer_orders, new_inventory)\n",
    "new_inventory"
   ]
  }
 ],
 "metadata": {
  "kernelspec": {
   "display_name": "Python 3 (ipykernel)",
   "language": "python",
   "name": "python3"
  },
  "language_info": {
   "codemirror_mode": {
    "name": "ipython",
    "version": 3
   },
   "file_extension": ".py",
   "mimetype": "text/x-python",
   "name": "python",
   "nbconvert_exporter": "python",
   "pygments_lexer": "ipython3",
   "version": "3.11.7"
  }
 },
 "nbformat": 4,
 "nbformat_minor": 5
}
